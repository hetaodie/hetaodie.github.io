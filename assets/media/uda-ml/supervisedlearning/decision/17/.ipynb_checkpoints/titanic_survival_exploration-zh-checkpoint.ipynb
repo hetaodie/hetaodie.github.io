{
 "cells": [
  {
   "cell_type": "markdown",
   "metadata": {},
   "source": [
    "# Lab：使用决策树探索泰坦尼克号乘客存活情况\n",
    "\n",
    "## 开始\n",
    "在引导项目中，你研究了泰坦尼克号存活数据并能够对乘客存活情况作出预测。在该项目中，你手动构建了一个决策树，该决策树在每个阶段都会选择一个与存活情况最相关的特征。幸运的是，这正是决策树的运行原理！在此实验室中，我们将通过在 sklearn 中实现决策树使这一流程速度显著加快。\n",
    "\n",
    "我们首先将加载数据集并显示某些行。"
   ]
  },
  {
   "cell_type": "code",
   "execution_count": null,
   "metadata": {},
   "outputs": [],
   "source": [
    "# Import libraries necessary for this project\n",
    "import numpy as np\n",
    "import pandas as pd\n",
    "from IPython.display import display # Allows the use of display() for DataFrames\n",
    "\n",
    "# Pretty display for notebooks\n",
    "%matplotlib inline\n",
    "\n",
    "# Set a random seed\n",
    "import random\n",
    "random.seed(42)\n",
    "\n",
    "# Load the dataset\n",
    "in_file = 'titanic_data.csv'\n",
    "full_data = pd.read_csv(in_file)\n",
    "\n",
    "# Print the first few entries of the RMS Titanic data\n",
    "display(full_data.head())"
   ]
  },
  {
   "cell_type": "markdown",
   "metadata": {},
   "source": [
    "下面是每位乘客具备的各种特征：\n",
    "- **Survived**：存活结果（0 = 存活；1 = 未存活）\n",
    "- **Pclass**：社会阶层（1 = 上层；2 = 中层；3 = 底层）\n",
    "- **Name**：乘客姓名\n",
    "- **Sex**：乘客性别\n",
    "- **Age**：乘客年龄（某些条目为 `NaN`）\n",
    "- **SibSp**：一起上船的兄弟姐妹和配偶人数\n",
    "- **Parch**：一起上船的父母和子女人数\n",
    "- **Ticket**：乘客的票号\n",
    "- **Fare**：乘客支付的票价\n",
    "- **Cabin**：乘客的客舱号（某些条目为 `NaN`）\n",
    "- **Embarked**：乘客的登船港（C = 瑟堡；Q = 皇后镇；S = 南安普顿）\n",
    "\n",
    "因为我们对每位乘客或船员的存活情况感兴趣，因此我们可以从此数据集中删除 **Survived** 特征，并将其存储在单独的变量 `outcome` 中。我们将使用这些结果作为预测目标。  \n",
    "运行以下代码单元格，以从数据集中删除特征 **Survived** 并将其存储到 `outcome` 中。"
   ]
  },
  {
   "cell_type": "code",
   "execution_count": null,
   "metadata": {},
   "outputs": [],
   "source": [
    "# Store the 'Survived' feature in a new variable and remove it from the dataset\n",
    "outcomes = full_data['Survived']\n",
    "features_raw = full_data.drop('Survived', axis = 1)\n",
    "\n",
    "# Show the new dataset with 'Survived' removed\n",
    "display(features_raw.head())"
   ]
  },
  {
   "cell_type": "markdown",
   "metadata": {},
   "source": [
    "相同的泰坦尼克号样本数据现在显示 DataFrame 中删除了 **Survived** 特征。注意 `data`（乘客数据）和 `outcomes` （存活结果）现在是*成对的*。意味着对于任何乘客 `data.loc[i]`，都具有存活结果 `outcomes[i]`。\n",
    "\n",
    "## 预处理数据\n",
    "\n",
    "现在我们对数据进行预处理。首先，我们将对特征进行独热编码。"
   ]
  },
  {
   "cell_type": "code",
   "execution_count": null,
   "metadata": {},
   "outputs": [],
   "source": [
    "features = pd.get_dummies(features_raw)"
   ]
  },
  {
   "cell_type": "markdown",
   "metadata": {},
   "source": [
    "现在用 0 填充任何空白处。"
   ]
  },
  {
   "cell_type": "code",
   "execution_count": null,
   "metadata": {},
   "outputs": [],
   "source": [
    "features = features.fillna(0.0)\n",
    "display(features.head())"
   ]
  },
  {
   "cell_type": "markdown",
   "metadata": {},
   "source": [
    "## (TODO) 训练模型\n",
    "\n",
    "现在我们已经准备好在 sklearn 中训练模型了。首先，将数据拆分为训练集和测试集。然后用训练集训练模型。"
   ]
  },
  {
   "cell_type": "code",
   "execution_count": null,
   "metadata": {},
   "outputs": [],
   "source": [
    "from sklearn.model_selection import train_test_split\n",
    "X_train, X_test, y_train, y_test = train_test_split(features, outcomes, test_size=0.2, random_state=42)"
   ]
  },
  {
   "cell_type": "code",
   "execution_count": null,
   "metadata": {},
   "outputs": [],
   "source": [
    "# Import the classifier from sklearn\n",
    "from sklearn.tree import DecisionTreeClassifier\n",
    "\n",
    "# TODO: Define the classifier, and fit it to the data\n",
    "model = None"
   ]
  },
  {
   "cell_type": "markdown",
   "metadata": {},
   "source": [
    "## 测试模型\n",
    "现在看看模型的效果。我们计算下训练集和测试集的准确率。"
   ]
  },
  {
   "cell_type": "code",
   "execution_count": null,
   "metadata": {},
   "outputs": [],
   "source": [
    "# Making predictions\n",
    "y_train_pred = model.predict(X_train)\n",
    "y_test_pred = model.predict(X_test)\n",
    "\n",
    "# Calculate the accuracy\n",
    "from sklearn.metrics import accuracy_score\n",
    "train_accuracy = accuracy_score(y_train, y_train_pred)\n",
    "test_accuracy = accuracy_score(y_test, y_test_pred)\n",
    "print('The training accuracy is', train_accuracy)\n",
    "print('The training accuracy is', test_accuracy)"
   ]
  },
  {
   "cell_type": "markdown",
   "metadata": {},
   "source": [
    "# 练习：改善模型\n",
    "\n",
    "结果是训练准确率很高，但是测试准确率较低。我们可能有点过拟合了。\n",
    "\n",
    "现在该你来发挥作用了！训练新的模型，并尝试指定一些参数来改善测试准确率，例如：\n",
    "- `max_depth`\n",
    "- `min_samples_leaf`\n",
    "- `min_samples_split`\n",
    "\n",
    "你可以根据直觉、采用试错法，甚至可以使用网格搜索法！\n",
    "\n",
    "**挑战：** 尝试在测试集中获得 85% 的准确率，如果需要提示，可以查看接下来的解决方案 notebook。"
   ]
  },
  {
   "cell_type": "code",
   "execution_count": null,
   "metadata": {},
   "outputs": [],
   "source": [
    "# TODO: Train the model\n",
    "\n",
    "# TODO: Make predictions\n",
    "\n",
    "# TODO: Calculate the accuracy"
   ]
  }
 ],
 "metadata": {},
 "nbformat": 4,
 "nbformat_minor": 2
}
